{
 "cells": [
  {
   "cell_type": "code",
   "execution_count": 1,
   "id": "dcaa840a",
   "metadata": {},
   "outputs": [],
   "source": [
    "import numpy as np \n",
    "import pandas as pd \n",
    "import matplotlib.pyplot as plt\n",
    "import matplotlib as mpl\n",
    "import seaborn as sns\n",
    "from sklearn.cluster import KMeans\n",
    "from sklearn.preprocessing import StandardScaler\n",
    "from sklearn.preprocessing import PowerTransformer\n",
    "from keras.layers import Embedding\n",
    "import proplot as pplt\n",
    "from kmodes.kprototypes import KPrototypes\n",
    "import plotly.express as px\n",
    "\n",
    "import warnings\n",
    "warnings.filterwarnings('ignore') "
   ]
  },
  {
   "cell_type": "code",
   "execution_count": 2,
   "id": "ea0c6662",
   "metadata": {},
   "outputs": [],
   "source": [
    "df =  pd.read_csv(\"Data_test.csv\",sep=\";\")"
   ]
  },
  {
   "cell_type": "code",
   "execution_count": 3,
   "id": "fd99506d",
   "metadata": {},
   "outputs": [
    {
     "data": {
      "text/html": [
       "<div>\n",
       "<style scoped>\n",
       "    .dataframe tbody tr th:only-of-type {\n",
       "        vertical-align: middle;\n",
       "    }\n",
       "\n",
       "    .dataframe tbody tr th {\n",
       "        vertical-align: top;\n",
       "    }\n",
       "\n",
       "    .dataframe thead th {\n",
       "        text-align: right;\n",
       "    }\n",
       "</style>\n",
       "<table border=\"1\" class=\"dataframe\">\n",
       "  <thead>\n",
       "    <tr style=\"text-align: right;\">\n",
       "      <th></th>\n",
       "      <th>ID</th>\n",
       "      <th>Customer ID</th>\n",
       "      <th>City Code</th>\n",
       "      <th>Region Code</th>\n",
       "      <th>Accomodation Ownership</th>\n",
       "      <th>Insurance Type</th>\n",
       "      <th>Age</th>\n",
       "      <th>Married</th>\n",
       "      <th>Plan Code</th>\n",
       "      <th>Policy Duration</th>\n",
       "      <th>Policy Type</th>\n",
       "      <th>Policy Category</th>\n",
       "      <th>Premium Amount</th>\n",
       "      <th>Claim</th>\n",
       "    </tr>\n",
       "  </thead>\n",
       "  <tbody>\n",
       "    <tr>\n",
       "      <th>0</th>\n",
       "      <td>32003</td>\n",
       "      <td>81040.0</td>\n",
       "      <td>C3</td>\n",
       "      <td>3029</td>\n",
       "      <td>Rented</td>\n",
       "      <td>Individual</td>\n",
       "      <td>65.0</td>\n",
       "      <td>No</td>\n",
       "      <td>NaN</td>\n",
       "      <td>NaN</td>\n",
       "      <td>NaN</td>\n",
       "      <td>22</td>\n",
       "      <td>40171.0</td>\n",
       "      <td>1</td>\n",
       "    </tr>\n",
       "    <tr>\n",
       "      <th>1</th>\n",
       "      <td>32285</td>\n",
       "      <td>88349.0</td>\n",
       "      <td>C4</td>\n",
       "      <td>2583</td>\n",
       "      <td>Rented</td>\n",
       "      <td>Individual</td>\n",
       "      <td>19.0</td>\n",
       "      <td>No</td>\n",
       "      <td>X2</td>\n",
       "      <td>NaN</td>\n",
       "      <td>NaN</td>\n",
       "      <td>12</td>\n",
       "      <td>13308.0</td>\n",
       "      <td>0</td>\n",
       "    </tr>\n",
       "    <tr>\n",
       "      <th>2</th>\n",
       "      <td>2530</td>\n",
       "      <td>80799.0</td>\n",
       "      <td>C6</td>\n",
       "      <td>4479</td>\n",
       "      <td>Rented</td>\n",
       "      <td>Individual</td>\n",
       "      <td>24.0</td>\n",
       "      <td>No</td>\n",
       "      <td>X2</td>\n",
       "      <td>NaN</td>\n",
       "      <td>NaN</td>\n",
       "      <td>2</td>\n",
       "      <td>41781.0</td>\n",
       "      <td>0</td>\n",
       "    </tr>\n",
       "    <tr>\n",
       "      <th>3</th>\n",
       "      <td>43305</td>\n",
       "      <td>72065.0</td>\n",
       "      <td>C11</td>\n",
       "      <td>267</td>\n",
       "      <td>Owned</td>\n",
       "      <td>Individual</td>\n",
       "      <td>66.0</td>\n",
       "      <td>No</td>\n",
       "      <td>X3</td>\n",
       "      <td>14+</td>\n",
       "      <td>2.0</td>\n",
       "      <td>22</td>\n",
       "      <td>15383.0</td>\n",
       "      <td>0</td>\n",
       "    </tr>\n",
       "    <tr>\n",
       "      <th>4</th>\n",
       "      <td>15714</td>\n",
       "      <td>84093.0</td>\n",
       "      <td>C2</td>\n",
       "      <td>4534</td>\n",
       "      <td>Owned</td>\n",
       "      <td>Individual</td>\n",
       "      <td>52.0</td>\n",
       "      <td>No</td>\n",
       "      <td>X1</td>\n",
       "      <td>14+</td>\n",
       "      <td>3.0</td>\n",
       "      <td>3</td>\n",
       "      <td>43924.0</td>\n",
       "      <td>0</td>\n",
       "    </tr>\n",
       "  </tbody>\n",
       "</table>\n",
       "</div>"
      ],
      "text/plain": [
       "      ID  Customer ID City Code  Region Code Accomodation Ownership  \\\n",
       "0  32003      81040.0        C3         3029                 Rented   \n",
       "1  32285      88349.0        C4         2583                 Rented   \n",
       "2   2530      80799.0        C6         4479                 Rented   \n",
       "3  43305      72065.0       C11          267                  Owned   \n",
       "4  15714      84093.0        C2         4534                  Owned   \n",
       "\n",
       "  Insurance Type   Age Married Plan Code Policy Duration  Policy Type  \\\n",
       "0     Individual  65.0      No       NaN             NaN          NaN   \n",
       "1     Individual  19.0      No        X2             NaN          NaN   \n",
       "2     Individual  24.0      No        X2             NaN          NaN   \n",
       "3     Individual  66.0      No        X3             14+          2.0   \n",
       "4     Individual  52.0      No        X1             14+          3.0   \n",
       "\n",
       "   Policy Category  Premium Amount  Claim  \n",
       "0               22         40171.0      1  \n",
       "1               12         13308.0      0  \n",
       "2                2         41781.0      0  \n",
       "3               22         15383.0      0  \n",
       "4                3         43924.0      0  "
      ]
     },
     "execution_count": 3,
     "metadata": {},
     "output_type": "execute_result"
    }
   ],
   "source": [
    "df.head()"
   ]
  },
  {
   "cell_type": "code",
   "execution_count": 4,
   "id": "af5deada",
   "metadata": {},
   "outputs": [],
   "source": [
    "df.columns = ['ID', 'Cust_ID', 'City_Code', 'Reg_Code', 'Accom_Own', 'Ins_Type', 'Age_Entry', 'Marital_Stat', 'Plan_Code', 'Pol_Dur',\n",
    "                'Pol_Type', 'Pol_Cat', 'Prem_Amnt', 'Claim']"
   ]
  },
  {
   "cell_type": "code",
   "execution_count": 5,
   "id": "ebcdf52d",
   "metadata": {},
   "outputs": [
    {
     "data": {
      "text/html": [
       "<div>\n",
       "<style scoped>\n",
       "    .dataframe tbody tr th:only-of-type {\n",
       "        vertical-align: middle;\n",
       "    }\n",
       "\n",
       "    .dataframe tbody tr th {\n",
       "        vertical-align: top;\n",
       "    }\n",
       "\n",
       "    .dataframe thead th {\n",
       "        text-align: right;\n",
       "    }\n",
       "</style>\n",
       "<table border=\"1\" class=\"dataframe\">\n",
       "  <thead>\n",
       "    <tr style=\"text-align: right;\">\n",
       "      <th></th>\n",
       "      <th>ID</th>\n",
       "      <th>Cust_ID</th>\n",
       "      <th>Reg_Code</th>\n",
       "      <th>Age_Entry</th>\n",
       "      <th>Pol_Type</th>\n",
       "      <th>Pol_Cat</th>\n",
       "      <th>Prem_Amnt</th>\n",
       "      <th>Claim</th>\n",
       "    </tr>\n",
       "  </thead>\n",
       "  <tbody>\n",
       "    <tr>\n",
       "      <th>count</th>\n",
       "      <td>50882.000000</td>\n",
       "      <td>50869.000000</td>\n",
       "      <td>50882.000000</td>\n",
       "      <td>50874.000000</td>\n",
       "      <td>30631.000000</td>\n",
       "      <td>50882.000000</td>\n",
       "      <td>50871.000000</td>\n",
       "      <td>50882.000000</td>\n",
       "    </tr>\n",
       "    <tr>\n",
       "      <th>mean</th>\n",
       "      <td>25441.500000</td>\n",
       "      <td>79993.806542</td>\n",
       "      <td>1732.788707</td>\n",
       "      <td>42.753568</td>\n",
       "      <td>2.439228</td>\n",
       "      <td>15.115188</td>\n",
       "      <td>30209.212459</td>\n",
       "      <td>0.239947</td>\n",
       "    </tr>\n",
       "    <tr>\n",
       "      <th>std</th>\n",
       "      <td>14688.512535</td>\n",
       "      <td>5766.505723</td>\n",
       "      <td>1424.081652</td>\n",
       "      <td>17.836079</td>\n",
       "      <td>1.025923</td>\n",
       "      <td>6.340663</td>\n",
       "      <td>15257.341750</td>\n",
       "      <td>0.427055</td>\n",
       "    </tr>\n",
       "    <tr>\n",
       "      <th>min</th>\n",
       "      <td>1.000000</td>\n",
       "      <td>70000.000000</td>\n",
       "      <td>1.000000</td>\n",
       "      <td>-20.000000</td>\n",
       "      <td>1.000000</td>\n",
       "      <td>1.000000</td>\n",
       "      <td>-15002.000000</td>\n",
       "      <td>0.000000</td>\n",
       "    </tr>\n",
       "    <tr>\n",
       "      <th>25%</th>\n",
       "      <td>12721.250000</td>\n",
       "      <td>74991.000000</td>\n",
       "      <td>523.000000</td>\n",
       "      <td>27.000000</td>\n",
       "      <td>1.000000</td>\n",
       "      <td>12.000000</td>\n",
       "      <td>19947.500000</td>\n",
       "      <td>0.000000</td>\n",
       "    </tr>\n",
       "    <tr>\n",
       "      <th>50%</th>\n",
       "      <td>25441.500000</td>\n",
       "      <td>80002.000000</td>\n",
       "      <td>1391.000000</td>\n",
       "      <td>40.000000</td>\n",
       "      <td>3.000000</td>\n",
       "      <td>17.000000</td>\n",
       "      <td>29874.000000</td>\n",
       "      <td>0.000000</td>\n",
       "    </tr>\n",
       "    <tr>\n",
       "      <th>75%</th>\n",
       "      <td>38161.750000</td>\n",
       "      <td>84986.000000</td>\n",
       "      <td>2667.000000</td>\n",
       "      <td>57.000000</td>\n",
       "      <td>3.000000</td>\n",
       "      <td>20.000000</td>\n",
       "      <td>40011.500000</td>\n",
       "      <td>0.000000</td>\n",
       "    </tr>\n",
       "    <tr>\n",
       "      <th>max</th>\n",
       "      <td>50882.000000</td>\n",
       "      <td>90000.000000</td>\n",
       "      <td>6194.000000</td>\n",
       "      <td>1000.000000</td>\n",
       "      <td>4.000000</td>\n",
       "      <td>22.000000</td>\n",
       "      <td>1000000.000000</td>\n",
       "      <td>1.000000</td>\n",
       "    </tr>\n",
       "  </tbody>\n",
       "</table>\n",
       "</div>"
      ],
      "text/plain": [
       "                 ID       Cust_ID      Reg_Code     Age_Entry      Pol_Type  \\\n",
       "count  50882.000000  50869.000000  50882.000000  50874.000000  30631.000000   \n",
       "mean   25441.500000  79993.806542   1732.788707     42.753568      2.439228   \n",
       "std    14688.512535   5766.505723   1424.081652     17.836079      1.025923   \n",
       "min        1.000000  70000.000000      1.000000    -20.000000      1.000000   \n",
       "25%    12721.250000  74991.000000    523.000000     27.000000      1.000000   \n",
       "50%    25441.500000  80002.000000   1391.000000     40.000000      3.000000   \n",
       "75%    38161.750000  84986.000000   2667.000000     57.000000      3.000000   \n",
       "max    50882.000000  90000.000000   6194.000000   1000.000000      4.000000   \n",
       "\n",
       "            Pol_Cat       Prem_Amnt         Claim  \n",
       "count  50882.000000    50871.000000  50882.000000  \n",
       "mean      15.115188    30209.212459      0.239947  \n",
       "std        6.340663    15257.341750      0.427055  \n",
       "min        1.000000   -15002.000000      0.000000  \n",
       "25%       12.000000    19947.500000      0.000000  \n",
       "50%       17.000000    29874.000000      0.000000  \n",
       "75%       20.000000    40011.500000      0.000000  \n",
       "max       22.000000  1000000.000000      1.000000  "
      ]
     },
     "execution_count": 5,
     "metadata": {},
     "output_type": "execute_result"
    }
   ],
   "source": [
    "df.describe()"
   ]
  },
  {
   "cell_type": "code",
   "execution_count": 6,
   "id": "4592fcff",
   "metadata": {},
   "outputs": [],
   "source": [
    "import statistics\n",
    "\n",
    "modus_plan_code = statistics.mode(df[\"Plan_Code\"])\n",
    "modus_pol_dur = statistics.mode(df[\"Pol_Dur\"])\n",
    "modus_pol_type = statistics.mode(df[\"Pol_Type\"])\n",
    "median_age = df[\"Age_Entry\"].median()\n",
    "median_prem_amn = df[\"Prem_Amnt\"].median()"
   ]
  },
  {
   "cell_type": "code",
   "execution_count": 7,
   "id": "b1863861",
   "metadata": {},
   "outputs": [],
   "source": [
    "df['Plan_Code'].fillna(modus_plan_code, inplace=True)\n",
    "df['Pol_Dur'].fillna(\"14+\", inplace=True)\n",
    "df['Pol_Type'].fillna(modus_pol_type, inplace=True)\n",
    "df['Age_Entry'].fillna(median_age, inplace=True)\n",
    "df['Prem_Amnt'].fillna(median_prem_amn, inplace=True)"
   ]
  },
  {
   "cell_type": "code",
   "execution_count": 8,
   "id": "fe30fd6b",
   "metadata": {},
   "outputs": [],
   "source": [
    "df.dropna(inplace=True)"
   ]
  },
  {
   "cell_type": "code",
   "execution_count": 9,
   "id": "23c2a8e0",
   "metadata": {},
   "outputs": [],
   "source": [
    "df[\"Age_Entry\"] = np.where(df[\"Age_Entry\"] >75, median_age,df['Age_Entry'])\n",
    "df[\"Age_Entry\"] = np.where(df[\"Age_Entry\"] <0, median_age,df['Age_Entry'])"
   ]
  },
  {
   "cell_type": "code",
   "execution_count": 10,
   "id": "83b736d2",
   "metadata": {},
   "outputs": [],
   "source": [
    "max_prem_treshold = df[\"Prem_Amnt\"].quantile(0.999)\n",
    "min_prem_treshold = df[\"Prem_Amnt\"].quantile(0.001)"
   ]
  },
  {
   "cell_type": "code",
   "execution_count": 11,
   "id": "340c4567",
   "metadata": {},
   "outputs": [
    {
     "data": {
      "text/plain": [
       "(50000.0, 3173.984)"
      ]
     },
     "execution_count": 11,
     "metadata": {},
     "output_type": "execute_result"
    }
   ],
   "source": [
    "max_prem_treshold, min_prem_treshold"
   ]
  },
  {
   "cell_type": "code",
   "execution_count": 12,
   "id": "d599d0ee",
   "metadata": {},
   "outputs": [],
   "source": [
    "df = df[(df.Prem_Amnt>min_prem_treshold)&(df.Prem_Amnt<max_prem_treshold)]"
   ]
  },
  {
   "cell_type": "code",
   "execution_count": 13,
   "id": "6a3f19aa",
   "metadata": {},
   "outputs": [],
   "source": [
    "df[\"Ins_Type\"] = np.where(df[\"Ins_Type\"] == \"Individua\",\"Individual\",df['Ins_Type'])\n",
    "df[\"Ins_Type\"] = np.where(df[\"Ins_Type\"] == \"Sendiri\",\"Individual\",df['Ins_Type'])\n",
    "df[\"Ins_Type\"] = np.where(df[\"Ins_Type\"] == \"joint\",\"Joint\",df['Ins_Type'])\n",
    "df[\"Ins_Type\"] = np.where(df[\"Ins_Type\"] == \"Gabungan\",\"Joint\",df['Ins_Type'])"
   ]
  },
  {
   "cell_type": "code",
   "execution_count": 14,
   "id": "6868cb1e",
   "metadata": {},
   "outputs": [
    {
     "name": "stdout",
     "output_type": "stream",
     "text": [
      "<class 'pandas.core.frame.DataFrame'>\n",
      "Int64Index: 50766 entries, 0 to 50881\n",
      "Data columns (total 14 columns):\n",
      " #   Column        Non-Null Count  Dtype  \n",
      "---  ------        --------------  -----  \n",
      " 0   ID            50766 non-null  int64  \n",
      " 1   Cust_ID       50766 non-null  float64\n",
      " 2   City_Code     50766 non-null  object \n",
      " 3   Reg_Code      50766 non-null  int64  \n",
      " 4   Accom_Own     50766 non-null  object \n",
      " 5   Ins_Type      50766 non-null  object \n",
      " 6   Age_Entry     50766 non-null  float64\n",
      " 7   Marital_Stat  50766 non-null  object \n",
      " 8   Plan_Code     50766 non-null  object \n",
      " 9   Pol_Dur       50766 non-null  object \n",
      " 10  Pol_Type      50766 non-null  float64\n",
      " 11  Pol_Cat       50766 non-null  int64  \n",
      " 12  Prem_Amnt     50766 non-null  float64\n",
      " 13  Claim         50766 non-null  int64  \n",
      "dtypes: float64(4), int64(4), object(6)\n",
      "memory usage: 5.8+ MB\n"
     ]
    }
   ],
   "source": [
    "df.info()"
   ]
  },
  {
   "cell_type": "code",
   "execution_count": 15,
   "id": "ea5e9565",
   "metadata": {},
   "outputs": [
    {
     "data": {
      "text/html": [
       "<div>\n",
       "<style scoped>\n",
       "    .dataframe tbody tr th:only-of-type {\n",
       "        vertical-align: middle;\n",
       "    }\n",
       "\n",
       "    .dataframe tbody tr th {\n",
       "        vertical-align: top;\n",
       "    }\n",
       "\n",
       "    .dataframe thead th {\n",
       "        text-align: right;\n",
       "    }\n",
       "</style>\n",
       "<table border=\"1\" class=\"dataframe\">\n",
       "  <thead>\n",
       "    <tr style=\"text-align: right;\">\n",
       "      <th></th>\n",
       "      <th>ID</th>\n",
       "      <th>Cust_ID</th>\n",
       "      <th>City_Code</th>\n",
       "      <th>Reg_Code</th>\n",
       "      <th>Accom_Own</th>\n",
       "      <th>Ins_Type</th>\n",
       "      <th>Age_Entry</th>\n",
       "      <th>Marital_Stat</th>\n",
       "      <th>Plan_Code</th>\n",
       "      <th>Pol_Dur</th>\n",
       "      <th>Pol_Type</th>\n",
       "      <th>Pol_Cat</th>\n",
       "      <th>Prem_Amnt</th>\n",
       "      <th>Claim</th>\n",
       "    </tr>\n",
       "  </thead>\n",
       "  <tbody>\n",
       "    <tr>\n",
       "      <th>0</th>\n",
       "      <td>32003</td>\n",
       "      <td>81040.0</td>\n",
       "      <td>C3</td>\n",
       "      <td>3029</td>\n",
       "      <td>Rented</td>\n",
       "      <td>Individual</td>\n",
       "      <td>65.0</td>\n",
       "      <td>No</td>\n",
       "      <td>X1</td>\n",
       "      <td>14+</td>\n",
       "      <td>3.0</td>\n",
       "      <td>22</td>\n",
       "      <td>40171.0</td>\n",
       "      <td>1</td>\n",
       "    </tr>\n",
       "    <tr>\n",
       "      <th>1</th>\n",
       "      <td>32285</td>\n",
       "      <td>88349.0</td>\n",
       "      <td>C4</td>\n",
       "      <td>2583</td>\n",
       "      <td>Rented</td>\n",
       "      <td>Individual</td>\n",
       "      <td>19.0</td>\n",
       "      <td>No</td>\n",
       "      <td>X2</td>\n",
       "      <td>14+</td>\n",
       "      <td>3.0</td>\n",
       "      <td>12</td>\n",
       "      <td>13308.0</td>\n",
       "      <td>0</td>\n",
       "    </tr>\n",
       "    <tr>\n",
       "      <th>2</th>\n",
       "      <td>2530</td>\n",
       "      <td>80799.0</td>\n",
       "      <td>C6</td>\n",
       "      <td>4479</td>\n",
       "      <td>Rented</td>\n",
       "      <td>Individual</td>\n",
       "      <td>24.0</td>\n",
       "      <td>No</td>\n",
       "      <td>X2</td>\n",
       "      <td>14+</td>\n",
       "      <td>3.0</td>\n",
       "      <td>2</td>\n",
       "      <td>41781.0</td>\n",
       "      <td>0</td>\n",
       "    </tr>\n",
       "    <tr>\n",
       "      <th>3</th>\n",
       "      <td>43305</td>\n",
       "      <td>72065.0</td>\n",
       "      <td>C11</td>\n",
       "      <td>267</td>\n",
       "      <td>Owned</td>\n",
       "      <td>Individual</td>\n",
       "      <td>66.0</td>\n",
       "      <td>No</td>\n",
       "      <td>X3</td>\n",
       "      <td>14+</td>\n",
       "      <td>2.0</td>\n",
       "      <td>22</td>\n",
       "      <td>15383.0</td>\n",
       "      <td>0</td>\n",
       "    </tr>\n",
       "    <tr>\n",
       "      <th>4</th>\n",
       "      <td>15714</td>\n",
       "      <td>84093.0</td>\n",
       "      <td>C2</td>\n",
       "      <td>4534</td>\n",
       "      <td>Owned</td>\n",
       "      <td>Individual</td>\n",
       "      <td>52.0</td>\n",
       "      <td>No</td>\n",
       "      <td>X1</td>\n",
       "      <td>14+</td>\n",
       "      <td>3.0</td>\n",
       "      <td>3</td>\n",
       "      <td>43924.0</td>\n",
       "      <td>0</td>\n",
       "    </tr>\n",
       "    <tr>\n",
       "      <th>...</th>\n",
       "      <td>...</td>\n",
       "      <td>...</td>\n",
       "      <td>...</td>\n",
       "      <td>...</td>\n",
       "      <td>...</td>\n",
       "      <td>...</td>\n",
       "      <td>...</td>\n",
       "      <td>...</td>\n",
       "      <td>...</td>\n",
       "      <td>...</td>\n",
       "      <td>...</td>\n",
       "      <td>...</td>\n",
       "      <td>...</td>\n",
       "      <td>...</td>\n",
       "    </tr>\n",
       "    <tr>\n",
       "      <th>50877</th>\n",
       "      <td>42509</td>\n",
       "      <td>83742.0</td>\n",
       "      <td>C1</td>\n",
       "      <td>1801</td>\n",
       "      <td>Owned</td>\n",
       "      <td>Individual</td>\n",
       "      <td>75.0</td>\n",
       "      <td>No</td>\n",
       "      <td>X1</td>\n",
       "      <td>14+</td>\n",
       "      <td>3.0</td>\n",
       "      <td>18</td>\n",
       "      <td>22505.0</td>\n",
       "      <td>0</td>\n",
       "    </tr>\n",
       "    <tr>\n",
       "      <th>50878</th>\n",
       "      <td>30647</td>\n",
       "      <td>85810.0</td>\n",
       "      <td>C4</td>\n",
       "      <td>1746</td>\n",
       "      <td>Owned</td>\n",
       "      <td>Individual</td>\n",
       "      <td>31.0</td>\n",
       "      <td>No</td>\n",
       "      <td>X5</td>\n",
       "      <td>2.0</td>\n",
       "      <td>2.0</td>\n",
       "      <td>7</td>\n",
       "      <td>24212.0</td>\n",
       "      <td>0</td>\n",
       "    </tr>\n",
       "    <tr>\n",
       "      <th>50879</th>\n",
       "      <td>13645</td>\n",
       "      <td>82369.0</td>\n",
       "      <td>C17</td>\n",
       "      <td>328</td>\n",
       "      <td>Rented</td>\n",
       "      <td>Joint</td>\n",
       "      <td>55.0</td>\n",
       "      <td>Yes</td>\n",
       "      <td>X1</td>\n",
       "      <td>10.0</td>\n",
       "      <td>3.0</td>\n",
       "      <td>21</td>\n",
       "      <td>17270.0</td>\n",
       "      <td>0</td>\n",
       "    </tr>\n",
       "    <tr>\n",
       "      <th>50880</th>\n",
       "      <td>13989</td>\n",
       "      <td>77662.0</td>\n",
       "      <td>C3</td>\n",
       "      <td>1592</td>\n",
       "      <td>Owned</td>\n",
       "      <td>Individual</td>\n",
       "      <td>57.0</td>\n",
       "      <td>No</td>\n",
       "      <td>X5</td>\n",
       "      <td>14+</td>\n",
       "      <td>3.0</td>\n",
       "      <td>18</td>\n",
       "      <td>32658.0</td>\n",
       "      <td>0</td>\n",
       "    </tr>\n",
       "    <tr>\n",
       "      <th>50881</th>\n",
       "      <td>48886</td>\n",
       "      <td>80506.0</td>\n",
       "      <td>C1</td>\n",
       "      <td>3698</td>\n",
       "      <td>Owned</td>\n",
       "      <td>Joint</td>\n",
       "      <td>57.0</td>\n",
       "      <td>Yes</td>\n",
       "      <td>X4</td>\n",
       "      <td>10.0</td>\n",
       "      <td>4.0</td>\n",
       "      <td>17</td>\n",
       "      <td>47445.0</td>\n",
       "      <td>0</td>\n",
       "    </tr>\n",
       "  </tbody>\n",
       "</table>\n",
       "<p>50766 rows × 14 columns</p>\n",
       "</div>"
      ],
      "text/plain": [
       "          ID  Cust_ID City_Code  Reg_Code Accom_Own    Ins_Type  Age_Entry  \\\n",
       "0      32003  81040.0        C3      3029    Rented  Individual       65.0   \n",
       "1      32285  88349.0        C4      2583    Rented  Individual       19.0   \n",
       "2       2530  80799.0        C6      4479    Rented  Individual       24.0   \n",
       "3      43305  72065.0       C11       267     Owned  Individual       66.0   \n",
       "4      15714  84093.0        C2      4534     Owned  Individual       52.0   \n",
       "...      ...      ...       ...       ...       ...         ...        ...   \n",
       "50877  42509  83742.0        C1      1801     Owned  Individual       75.0   \n",
       "50878  30647  85810.0        C4      1746     Owned  Individual       31.0   \n",
       "50879  13645  82369.0       C17       328    Rented       Joint       55.0   \n",
       "50880  13989  77662.0        C3      1592     Owned  Individual       57.0   \n",
       "50881  48886  80506.0        C1      3698     Owned       Joint       57.0   \n",
       "\n",
       "      Marital_Stat Plan_Code Pol_Dur  Pol_Type  Pol_Cat  Prem_Amnt  Claim  \n",
       "0               No        X1     14+       3.0       22    40171.0      1  \n",
       "1               No        X2     14+       3.0       12    13308.0      0  \n",
       "2               No        X2     14+       3.0        2    41781.0      0  \n",
       "3               No        X3     14+       2.0       22    15383.0      0  \n",
       "4               No        X1     14+       3.0        3    43924.0      0  \n",
       "...            ...       ...     ...       ...      ...        ...    ...  \n",
       "50877           No        X1     14+       3.0       18    22505.0      0  \n",
       "50878           No        X5     2.0       2.0        7    24212.0      0  \n",
       "50879          Yes        X1    10.0       3.0       21    17270.0      0  \n",
       "50880           No        X5     14+       3.0       18    32658.0      0  \n",
       "50881          Yes        X4    10.0       4.0       17    47445.0      0  \n",
       "\n",
       "[50766 rows x 14 columns]"
      ]
     },
     "execution_count": 15,
     "metadata": {},
     "output_type": "execute_result"
    }
   ],
   "source": [
    "df"
   ]
  },
  {
   "cell_type": "code",
   "execution_count": 16,
   "id": "a73e3380",
   "metadata": {},
   "outputs": [
    {
     "name": "stdout",
     "output_type": "stream",
     "text": [
      "ID \t:  50766 label\n",
      "Cust_ID \t:  18409 label\n",
      "City_Code \t:  36 label\n",
      "Reg_Code \t:  5315 label\n",
      "Accom_Own \t:  2 label\n",
      "Ins_Type \t:  2 label\n",
      "Age_Entry \t:  62 label\n",
      "Marital_Stat \t:  2 label\n",
      "Plan_Code \t:  9 label\n",
      "Pol_Dur \t:  15 label\n",
      "Pol_Type \t:  4 label\n",
      "Pol_Cat \t:  22 label\n",
      "Prem_Amnt \t:  28710 label\n",
      "Claim \t:  2 label\n"
     ]
    }
   ],
   "source": [
    "for col in df.columns:\n",
    "    print(col, '\\t: ', len(df[col].unique()), 'label')"
   ]
  },
  {
   "cell_type": "code",
   "execution_count": 17,
   "id": "a4889edb",
   "metadata": {},
   "outputs": [
    {
     "data": {
      "image/png": "[encoded data removed]",
      "text/plain": [
       "<Figure size 400x400 with 1 Axes>"
      ]
     },
     "metadata": {
      "image/png": {
       "height": 400,
       "width": 400
      }
     },
     "output_type": "display_data"
    },
    {
     "data": {
      "text/plain": [
       "<Figure size 400x400 with 0 Axes>"
      ]
     },
     "metadata": {},
     "output_type": "display_data"
    }
   ],
   "source": [
    "def pie_chart(df, column ,explode , labels,title,no):\n",
    "    \n",
    "    plt.pie(df[column].value_counts(),\n",
    "            explode=explode,    #explode=[0.04,0]\n",
    "            startangle=90, \n",
    "            autopct='%1.1f%%',\n",
    "            labels=labels, #labels=['Males','Females']\n",
    "            colors = ['#66b3ff','#99ff99'],\n",
    "            pctdistance=.6,\n",
    "            textprops={'fontsize': 20})\n",
    "    plt.title(title)\n",
    "    plt.figure(no)\n",
    "\n",
    "pie_chart(df, \"Ins_Type\" ,[0.15,0.05], ['Individual',\"Joint\"],\"Insurance Type count\",0)"
   ]
  },
  {
   "cell_type": "code",
   "execution_count": 18,
   "id": "1f65b45e",
   "metadata": {},
   "outputs": [
    {
     "data": {
      "image/png": "[encoded data removed]",
      "text/plain": [
       "<Figure size 400x400 with 1 Axes>"
      ]
     },
     "metadata": {
      "image/png": {
       "height": 400,
       "width": 400
      }
     },
     "output_type": "display_data"
    }
   ],
   "source": [
    "base_color = sns.color_palette()[1]\n",
    "\n",
    "sns.countplot(y = 'Age_Entry',color= base_color, data = df, order = df.Age_Entry.value_counts().head(10).index)\n",
    "\n",
    "plt.title(\"Top 10 Age Entry\", fontsize = 20);"
   ]
  },
  {
   "cell_type": "code",
   "execution_count": 19,
   "id": "b31d4e9d",
   "metadata": {},
   "outputs": [
    {
     "data": {
      "image/png": "[encoded data removed]",
      "text/plain": [
       "<Figure size 400x400 with 1 Axes>"
      ]
     },
     "metadata": {
      "image/png": {
       "height": 400,
       "width": 400
      }
     },
     "output_type": "display_data"
    }
   ],
   "source": [
    "base_color = sns.color_palette()[2]\n",
    "\n",
    "sns.countplot(y = 'City_Code',color= base_color, data = df, order = df.City_Code.value_counts().head(10).index)\n",
    "\n",
    "plt.title(\"Top 10 City Code\", fontsize = 20);"
   ]
  },
  {
   "cell_type": "code",
   "execution_count": 20,
   "id": "c19b5ada",
   "metadata": {},
   "outputs": [
    {
     "data": {
      "image/png": "[encoded data removed]",
      "text/plain": [
       "<Figure size 400x400 with 1 Axes>"
      ]
     },
     "metadata": {
      "image/png": {
       "height": 400,
       "width": 400
      }
     },
     "output_type": "display_data"
    }
   ],
   "source": [
    "base_color = sns.color_palette()[4]\n",
    "\n",
    "sns.countplot(y = 'Plan_Code',color= base_color, data = df, order = df.Plan_Code.value_counts().head(10).index)\n",
    "\n",
    "plt.title(\"Top 10 Plan Code\", fontsize = 20);"
   ]
  },
  {
   "cell_type": "code",
   "execution_count": 21,
   "id": "8d2450fa",
   "metadata": {},
   "outputs": [
    {
     "data": {
      "image/png": "[encoded data removed]",
      "text/plain": [
       "<Figure size 400x400 with 1 Axes>"
      ]
     },
     "metadata": {
      "image/png": {
       "height": 400,
       "width": 400
      }
     },
     "output_type": "display_data"
    }
   ],
   "source": [
    "base_color = sns.color_palette()[0]\n",
    "\n",
    "sns.countplot(y = 'Pol_Dur',color= base_color, data = df, order = df.Pol_Dur.value_counts().head(10).index)\n",
    "\n",
    "plt.title(\"Top 10 Pol Dur\", fontsize = 20);"
   ]
  },
  {
   "cell_type": "code",
   "execution_count": 22,
   "id": "2eec2544",
   "metadata": {},
   "outputs": [
    {
     "data": {
      "image/png": "[encoded data removed]",
      "text/plain": [
       "<Figure size 400x400 with 1 Axes>"
      ]
     },
     "metadata": {
      "image/png": {
       "height": 400,
       "width": 400
      }
     },
     "output_type": "display_data"
    }
   ],
   "source": [
    "base_color = sns.color_palette()[3]\n",
    "\n",
    "sns.countplot(y = 'Pol_Type',color= base_color, data = df, order = df.Pol_Type.value_counts().head(10).index)\n",
    "\n",
    "plt.title(\"Top 10 Pol Type\", fontsize = 20);"
   ]
  },
  {
   "cell_type": "markdown",
   "id": "c5b536cc",
   "metadata": {},
   "source": [
    "## Feature Engineering"
   ]
  },
  {
   "cell_type": "code",
   "execution_count": 23,
   "id": "635b73a8",
   "metadata": {},
   "outputs": [
    {
     "data": {
      "text/html": [
       "<div>\n",
       "<style scoped>\n",
       "    .dataframe tbody tr th:only-of-type {\n",
       "        vertical-align: middle;\n",
       "    }\n",
       "\n",
       "    .dataframe tbody tr th {\n",
       "        vertical-align: top;\n",
       "    }\n",
       "\n",
       "    .dataframe thead th {\n",
       "        text-align: right;\n",
       "    }\n",
       "</style>\n",
       "<table border=\"1\" class=\"dataframe\">\n",
       "  <thead>\n",
       "    <tr style=\"text-align: right;\">\n",
       "      <th></th>\n",
       "      <th>ID</th>\n",
       "      <th>Cust_ID</th>\n",
       "      <th>City_Code</th>\n",
       "      <th>Reg_Code</th>\n",
       "      <th>Accom_Own</th>\n",
       "      <th>Ins_Type</th>\n",
       "      <th>Age_Entry</th>\n",
       "      <th>Marital_Stat</th>\n",
       "      <th>Plan_Code</th>\n",
       "      <th>Pol_Dur</th>\n",
       "      <th>Pol_Type</th>\n",
       "      <th>Pol_Cat</th>\n",
       "      <th>Prem_Amnt</th>\n",
       "      <th>Claim</th>\n",
       "    </tr>\n",
       "  </thead>\n",
       "  <tbody>\n",
       "    <tr>\n",
       "      <th>0</th>\n",
       "      <td>32003</td>\n",
       "      <td>81040.0</td>\n",
       "      <td>C3</td>\n",
       "      <td>3029</td>\n",
       "      <td>Rented</td>\n",
       "      <td>Individual</td>\n",
       "      <td>65.0</td>\n",
       "      <td>No</td>\n",
       "      <td>X1</td>\n",
       "      <td>14+</td>\n",
       "      <td>3.0</td>\n",
       "      <td>22</td>\n",
       "      <td>40171.0</td>\n",
       "      <td>1</td>\n",
       "    </tr>\n",
       "  </tbody>\n",
       "</table>\n",
       "</div>"
      ],
      "text/plain": [
       "      ID  Cust_ID City_Code  Reg_Code Accom_Own    Ins_Type  Age_Entry  \\\n",
       "0  32003  81040.0        C3      3029    Rented  Individual       65.0   \n",
       "\n",
       "  Marital_Stat Plan_Code Pol_Dur  Pol_Type  Pol_Cat  Prem_Amnt  Claim  \n",
       "0           No        X1     14+       3.0       22    40171.0      1  "
      ]
     },
     "execution_count": 23,
     "metadata": {},
     "output_type": "execute_result"
    }
   ],
   "source": [
    "df.head(1)"
   ]
  },
  {
   "cell_type": "markdown",
   "id": "5f6af471",
   "metadata": {},
   "source": [
    "Cosine similarity is the measure of similarity between two vectors, by computing the cosine of the angle between two vectors projected into multidimensional space. It can be applied to items available on a dataset to compute similarity to one another via keywords or other metrics. Similarity between two vectors (A and B) is calculated by taking the dot product of the two vectors and dividing it by the magnitude value as shown in the equation below. We can simply say that the CS score of two vectors increases as the angle between them decreases."
   ]
  },
  {
   "cell_type": "code",
   "execution_count": 25,
   "id": "d6455567",
   "metadata": {},
   "outputs": [],
   "source": [
    "df=df.drop(['ID','Reg_Code','Pol_Cat'],axis=1)"
   ]
  },
  {
   "cell_type": "code",
   "execution_count": 26,
   "id": "58ed1694",
   "metadata": {
    "scrolled": true
   },
   "outputs": [
    {
     "name": "stdout",
     "output_type": "stream",
     "text": [
      "<class 'pandas.core.frame.DataFrame'>\n",
      "Int64Index: 50766 entries, 0 to 50881\n",
      "Data columns (total 11 columns):\n",
      " #   Column        Non-Null Count  Dtype  \n",
      "---  ------        --------------  -----  \n",
      " 0   Cust_ID       50766 non-null  float64\n",
      " 1   City_Code     50766 non-null  object \n",
      " 2   Accom_Own     50766 non-null  object \n",
      " 3   Ins_Type      50766 non-null  object \n",
      " 4   Age_Entry     50766 non-null  float64\n",
      " 5   Marital_Stat  50766 non-null  object \n",
      " 6   Plan_Code     50766 non-null  object \n",
      " 7   Pol_Dur       50766 non-null  object \n",
      " 8   Pol_Type      50766 non-null  float64\n",
      " 9   Prem_Amnt     50766 non-null  float64\n",
      " 10  Claim         50766 non-null  int64  \n",
      "dtypes: float64(4), int64(1), object(6)\n",
      "memory usage: 6.7+ MB\n"
     ]
    }
   ],
   "source": [
    "df.info()"
   ]
  },
  {
   "cell_type": "markdown",
   "id": "ac749888",
   "metadata": {},
   "source": [
    "### MODELING"
   ]
  },
  {
   "cell_type": "code",
   "execution_count": 27,
   "id": "ce9e2aba",
   "metadata": {},
   "outputs": [
    {
     "data": {
      "text/html": [
       "<div>\n",
       "<style scoped>\n",
       "    .dataframe tbody tr th:only-of-type {\n",
       "        vertical-align: middle;\n",
       "    }\n",
       "\n",
       "    .dataframe tbody tr th {\n",
       "        vertical-align: top;\n",
       "    }\n",
       "\n",
       "    .dataframe thead th {\n",
       "        text-align: right;\n",
       "    }\n",
       "</style>\n",
       "<table border=\"1\" class=\"dataframe\">\n",
       "  <thead>\n",
       "    <tr style=\"text-align: right;\">\n",
       "      <th></th>\n",
       "      <th>Cust_ID</th>\n",
       "      <th>City_Code</th>\n",
       "      <th>Accom_Own</th>\n",
       "      <th>Ins_Type</th>\n",
       "      <th>Age_Entry</th>\n",
       "      <th>Marital_Stat</th>\n",
       "      <th>Plan_Code</th>\n",
       "      <th>Pol_Dur</th>\n",
       "      <th>Pol_Type</th>\n",
       "      <th>Prem_Amnt</th>\n",
       "      <th>Claim</th>\n",
       "    </tr>\n",
       "  </thead>\n",
       "  <tbody>\n",
       "    <tr>\n",
       "      <th>0</th>\n",
       "      <td>81040.0</td>\n",
       "      <td>C3</td>\n",
       "      <td>Rented</td>\n",
       "      <td>Individual</td>\n",
       "      <td>65.0</td>\n",
       "      <td>No</td>\n",
       "      <td>X1</td>\n",
       "      <td>14+</td>\n",
       "      <td>3.0</td>\n",
       "      <td>40171.0</td>\n",
       "      <td>1</td>\n",
       "    </tr>\n",
       "    <tr>\n",
       "      <th>1</th>\n",
       "      <td>88349.0</td>\n",
       "      <td>C4</td>\n",
       "      <td>Rented</td>\n",
       "      <td>Individual</td>\n",
       "      <td>19.0</td>\n",
       "      <td>No</td>\n",
       "      <td>X2</td>\n",
       "      <td>14+</td>\n",
       "      <td>3.0</td>\n",
       "      <td>13308.0</td>\n",
       "      <td>0</td>\n",
       "    </tr>\n",
       "    <tr>\n",
       "      <th>2</th>\n",
       "      <td>80799.0</td>\n",
       "      <td>C6</td>\n",
       "      <td>Rented</td>\n",
       "      <td>Individual</td>\n",
       "      <td>24.0</td>\n",
       "      <td>No</td>\n",
       "      <td>X2</td>\n",
       "      <td>14+</td>\n",
       "      <td>3.0</td>\n",
       "      <td>41781.0</td>\n",
       "      <td>0</td>\n",
       "    </tr>\n",
       "    <tr>\n",
       "      <th>3</th>\n",
       "      <td>72065.0</td>\n",
       "      <td>C11</td>\n",
       "      <td>Owned</td>\n",
       "      <td>Individual</td>\n",
       "      <td>66.0</td>\n",
       "      <td>No</td>\n",
       "      <td>X3</td>\n",
       "      <td>14+</td>\n",
       "      <td>2.0</td>\n",
       "      <td>15383.0</td>\n",
       "      <td>0</td>\n",
       "    </tr>\n",
       "    <tr>\n",
       "      <th>4</th>\n",
       "      <td>84093.0</td>\n",
       "      <td>C2</td>\n",
       "      <td>Owned</td>\n",
       "      <td>Individual</td>\n",
       "      <td>52.0</td>\n",
       "      <td>No</td>\n",
       "      <td>X1</td>\n",
       "      <td>14+</td>\n",
       "      <td>3.0</td>\n",
       "      <td>43924.0</td>\n",
       "      <td>0</td>\n",
       "    </tr>\n",
       "  </tbody>\n",
       "</table>\n",
       "</div>"
      ],
      "text/plain": [
       "   Cust_ID City_Code Accom_Own    Ins_Type  Age_Entry Marital_Stat Plan_Code  \\\n",
       "0  81040.0        C3    Rented  Individual       65.0           No        X1   \n",
       "1  88349.0        C4    Rented  Individual       19.0           No        X2   \n",
       "2  80799.0        C6    Rented  Individual       24.0           No        X2   \n",
       "3  72065.0       C11     Owned  Individual       66.0           No        X3   \n",
       "4  84093.0        C2     Owned  Individual       52.0           No        X1   \n",
       "\n",
       "  Pol_Dur  Pol_Type  Prem_Amnt  Claim  \n",
       "0     14+       3.0    40171.0      1  \n",
       "1     14+       3.0    13308.0      0  \n",
       "2     14+       3.0    41781.0      0  \n",
       "3     14+       2.0    15383.0      0  \n",
       "4     14+       3.0    43924.0      0  "
      ]
     },
     "execution_count": 27,
     "metadata": {},
     "output_type": "execute_result"
    }
   ],
   "source": [
    "df.head()"
   ]
  },
  {
   "cell_type": "code",
   "execution_count": 28,
   "id": "fe647840",
   "metadata": {
    "scrolled": true
   },
   "outputs": [],
   "source": [
    "df1 = df.copy()\n",
    "df1['Age_Entry'] = df1['Age_Entry'].astype(str)"
   ]
  },
  {
   "cell_type": "code",
   "execution_count": 29,
   "id": "7afeaa3f",
   "metadata": {},
   "outputs": [
    {
     "name": "stdout",
     "output_type": "stream",
     "text": [
      "<class 'pandas.core.frame.DataFrame'>\n",
      "Int64Index: 50766 entries, 0 to 50881\n",
      "Data columns (total 11 columns):\n",
      " #   Column        Non-Null Count  Dtype  \n",
      "---  ------        --------------  -----  \n",
      " 0   Cust_ID       50766 non-null  float64\n",
      " 1   City_Code     50766 non-null  object \n",
      " 2   Accom_Own     50766 non-null  object \n",
      " 3   Ins_Type      50766 non-null  object \n",
      " 4   Age_Entry     50766 non-null  object \n",
      " 5   Marital_Stat  50766 non-null  object \n",
      " 6   Plan_Code     50766 non-null  object \n",
      " 7   Pol_Dur       50766 non-null  object \n",
      " 8   Pol_Type      50766 non-null  float64\n",
      " 9   Prem_Amnt     50766 non-null  float64\n",
      " 10  Claim         50766 non-null  int64  \n",
      "dtypes: float64(3), int64(1), object(7)\n",
      "memory usage: 6.7+ MB\n"
     ]
    }
   ],
   "source": [
    "df1.info()"
   ]
  },
  {
   "cell_type": "code",
   "execution_count": 30,
   "id": "3864863f",
   "metadata": {},
   "outputs": [
    {
     "data": {
      "text/plain": [
       "(50766, 11)"
      ]
     },
     "execution_count": 30,
     "metadata": {},
     "output_type": "execute_result"
    }
   ],
   "source": [
    "df1.shape"
   ]
  },
  {
   "cell_type": "code",
   "execution_count": 31,
   "id": "178dcd29",
   "metadata": {},
   "outputs": [],
   "source": [
    "df1=df1[:10000]"
   ]
  },
  {
   "cell_type": "code",
   "execution_count": 32,
   "id": "df7951e7",
   "metadata": {},
   "outputs": [
    {
     "data": {
      "text/plain": [
       "(10000, 11)"
      ]
     },
     "execution_count": 32,
     "metadata": {},
     "output_type": "execute_result"
    }
   ],
   "source": [
    "df1.shape"
   ]
  },
  {
   "cell_type": "code",
   "execution_count": 33,
   "id": "bd4068b3",
   "metadata": {},
   "outputs": [
    {
     "data": {
      "text/html": [
       "<div>\n",
       "<style scoped>\n",
       "    .dataframe tbody tr th:only-of-type {\n",
       "        vertical-align: middle;\n",
       "    }\n",
       "\n",
       "    .dataframe tbody tr th {\n",
       "        vertical-align: top;\n",
       "    }\n",
       "\n",
       "    .dataframe thead th {\n",
       "        text-align: right;\n",
       "    }\n",
       "</style>\n",
       "<table border=\"1\" class=\"dataframe\">\n",
       "  <thead>\n",
       "    <tr style=\"text-align: right;\">\n",
       "      <th></th>\n",
       "      <th>Cust_ID</th>\n",
       "      <th>City_Code</th>\n",
       "      <th>Accom_Own</th>\n",
       "      <th>Ins_Type</th>\n",
       "      <th>Age_Entry</th>\n",
       "      <th>Marital_Stat</th>\n",
       "      <th>Plan_Code</th>\n",
       "      <th>Pol_Dur</th>\n",
       "      <th>Pol_Type</th>\n",
       "      <th>Prem_Amnt</th>\n",
       "      <th>Claim</th>\n",
       "    </tr>\n",
       "  </thead>\n",
       "  <tbody>\n",
       "    <tr>\n",
       "      <th>0</th>\n",
       "      <td>81040.0</td>\n",
       "      <td>C3</td>\n",
       "      <td>Rented</td>\n",
       "      <td>Individual</td>\n",
       "      <td>65.0</td>\n",
       "      <td>No</td>\n",
       "      <td>X1</td>\n",
       "      <td>14+</td>\n",
       "      <td>3.0</td>\n",
       "      <td>40171.0</td>\n",
       "      <td>1</td>\n",
       "    </tr>\n",
       "    <tr>\n",
       "      <th>1</th>\n",
       "      <td>88349.0</td>\n",
       "      <td>C4</td>\n",
       "      <td>Rented</td>\n",
       "      <td>Individual</td>\n",
       "      <td>19.0</td>\n",
       "      <td>No</td>\n",
       "      <td>X2</td>\n",
       "      <td>14+</td>\n",
       "      <td>3.0</td>\n",
       "      <td>13308.0</td>\n",
       "      <td>0</td>\n",
       "    </tr>\n",
       "    <tr>\n",
       "      <th>2</th>\n",
       "      <td>80799.0</td>\n",
       "      <td>C6</td>\n",
       "      <td>Rented</td>\n",
       "      <td>Individual</td>\n",
       "      <td>24.0</td>\n",
       "      <td>No</td>\n",
       "      <td>X2</td>\n",
       "      <td>14+</td>\n",
       "      <td>3.0</td>\n",
       "      <td>41781.0</td>\n",
       "      <td>0</td>\n",
       "    </tr>\n",
       "    <tr>\n",
       "      <th>3</th>\n",
       "      <td>72065.0</td>\n",
       "      <td>C11</td>\n",
       "      <td>Owned</td>\n",
       "      <td>Individual</td>\n",
       "      <td>66.0</td>\n",
       "      <td>No</td>\n",
       "      <td>X3</td>\n",
       "      <td>14+</td>\n",
       "      <td>2.0</td>\n",
       "      <td>15383.0</td>\n",
       "      <td>0</td>\n",
       "    </tr>\n",
       "    <tr>\n",
       "      <th>4</th>\n",
       "      <td>84093.0</td>\n",
       "      <td>C2</td>\n",
       "      <td>Owned</td>\n",
       "      <td>Individual</td>\n",
       "      <td>52.0</td>\n",
       "      <td>No</td>\n",
       "      <td>X1</td>\n",
       "      <td>14+</td>\n",
       "      <td>3.0</td>\n",
       "      <td>43924.0</td>\n",
       "      <td>0</td>\n",
       "    </tr>\n",
       "  </tbody>\n",
       "</table>\n",
       "</div>"
      ],
      "text/plain": [
       "   Cust_ID City_Code Accom_Own    Ins_Type Age_Entry Marital_Stat Plan_Code  \\\n",
       "0  81040.0        C3    Rented  Individual      65.0           No        X1   \n",
       "1  88349.0        C4    Rented  Individual      19.0           No        X2   \n",
       "2  80799.0        C6    Rented  Individual      24.0           No        X2   \n",
       "3  72065.0       C11     Owned  Individual      66.0           No        X3   \n",
       "4  84093.0        C2     Owned  Individual      52.0           No        X1   \n",
       "\n",
       "  Pol_Dur  Pol_Type  Prem_Amnt  Claim  \n",
       "0     14+       3.0    40171.0      1  \n",
       "1     14+       3.0    13308.0      0  \n",
       "2     14+       3.0    41781.0      0  \n",
       "3     14+       2.0    15383.0      0  \n",
       "4     14+       3.0    43924.0      0  "
      ]
     },
     "execution_count": 33,
     "metadata": {},
     "output_type": "execute_result"
    }
   ],
   "source": [
    "df1.head()"
   ]
  },
  {
   "cell_type": "code",
   "execution_count": 34,
   "id": "6676efe6",
   "metadata": {},
   "outputs": [],
   "source": [
    "def important_features(dataset):\n",
    "    data=df1.copy()\n",
    "    for i in range(0, dataset.shape[0]):\n",
    "        data[\"combine\"]=data[\"City_Code\"]+'_'+data[\"Accom_Own\"]+'_'+data[\"Age_Entry\"]+'_'+data[\"Marital_Stat\"]\n",
    "    return data"
   ]
  },
  {
   "cell_type": "code",
   "execution_count": 35,
   "id": "52c624e2",
   "metadata": {},
   "outputs": [],
   "source": [
    "data=important_features(df1)"
   ]
  },
  {
   "cell_type": "code",
   "execution_count": 36,
   "id": "e85eeff9",
   "metadata": {},
   "outputs": [
    {
     "data": {
      "text/html": [
       "<div>\n",
       "<style scoped>\n",
       "    .dataframe tbody tr th:only-of-type {\n",
       "        vertical-align: middle;\n",
       "    }\n",
       "\n",
       "    .dataframe tbody tr th {\n",
       "        vertical-align: top;\n",
       "    }\n",
       "\n",
       "    .dataframe thead th {\n",
       "        text-align: right;\n",
       "    }\n",
       "</style>\n",
       "<table border=\"1\" class=\"dataframe\">\n",
       "  <thead>\n",
       "    <tr style=\"text-align: right;\">\n",
       "      <th></th>\n",
       "      <th>Cust_ID</th>\n",
       "      <th>City_Code</th>\n",
       "      <th>Accom_Own</th>\n",
       "      <th>Ins_Type</th>\n",
       "      <th>Age_Entry</th>\n",
       "      <th>Marital_Stat</th>\n",
       "      <th>Plan_Code</th>\n",
       "      <th>Pol_Dur</th>\n",
       "      <th>Pol_Type</th>\n",
       "      <th>Prem_Amnt</th>\n",
       "      <th>Claim</th>\n",
       "      <th>combine</th>\n",
       "    </tr>\n",
       "  </thead>\n",
       "  <tbody>\n",
       "    <tr>\n",
       "      <th>0</th>\n",
       "      <td>81040.0</td>\n",
       "      <td>C3</td>\n",
       "      <td>Rented</td>\n",
       "      <td>Individual</td>\n",
       "      <td>65.0</td>\n",
       "      <td>No</td>\n",
       "      <td>X1</td>\n",
       "      <td>14+</td>\n",
       "      <td>3.0</td>\n",
       "      <td>40171.0</td>\n",
       "      <td>1</td>\n",
       "      <td>C3_Rented_65.0_No</td>\n",
       "    </tr>\n",
       "    <tr>\n",
       "      <th>1</th>\n",
       "      <td>88349.0</td>\n",
       "      <td>C4</td>\n",
       "      <td>Rented</td>\n",
       "      <td>Individual</td>\n",
       "      <td>19.0</td>\n",
       "      <td>No</td>\n",
       "      <td>X2</td>\n",
       "      <td>14+</td>\n",
       "      <td>3.0</td>\n",
       "      <td>13308.0</td>\n",
       "      <td>0</td>\n",
       "      <td>C4_Rented_19.0_No</td>\n",
       "    </tr>\n",
       "    <tr>\n",
       "      <th>2</th>\n",
       "      <td>80799.0</td>\n",
       "      <td>C6</td>\n",
       "      <td>Rented</td>\n",
       "      <td>Individual</td>\n",
       "      <td>24.0</td>\n",
       "      <td>No</td>\n",
       "      <td>X2</td>\n",
       "      <td>14+</td>\n",
       "      <td>3.0</td>\n",
       "      <td>41781.0</td>\n",
       "      <td>0</td>\n",
       "      <td>C6_Rented_24.0_No</td>\n",
       "    </tr>\n",
       "    <tr>\n",
       "      <th>3</th>\n",
       "      <td>72065.0</td>\n",
       "      <td>C11</td>\n",
       "      <td>Owned</td>\n",
       "      <td>Individual</td>\n",
       "      <td>66.0</td>\n",
       "      <td>No</td>\n",
       "      <td>X3</td>\n",
       "      <td>14+</td>\n",
       "      <td>2.0</td>\n",
       "      <td>15383.0</td>\n",
       "      <td>0</td>\n",
       "      <td>C11_Owned_66.0_No</td>\n",
       "    </tr>\n",
       "    <tr>\n",
       "      <th>4</th>\n",
       "      <td>84093.0</td>\n",
       "      <td>C2</td>\n",
       "      <td>Owned</td>\n",
       "      <td>Individual</td>\n",
       "      <td>52.0</td>\n",
       "      <td>No</td>\n",
       "      <td>X1</td>\n",
       "      <td>14+</td>\n",
       "      <td>3.0</td>\n",
       "      <td>43924.0</td>\n",
       "      <td>0</td>\n",
       "      <td>C2_Owned_52.0_No</td>\n",
       "    </tr>\n",
       "  </tbody>\n",
       "</table>\n",
       "</div>"
      ],
      "text/plain": [
       "   Cust_ID City_Code Accom_Own    Ins_Type Age_Entry Marital_Stat Plan_Code  \\\n",
       "0  81040.0        C3    Rented  Individual      65.0           No        X1   \n",
       "1  88349.0        C4    Rented  Individual      19.0           No        X2   \n",
       "2  80799.0        C6    Rented  Individual      24.0           No        X2   \n",
       "3  72065.0       C11     Owned  Individual      66.0           No        X3   \n",
       "4  84093.0        C2     Owned  Individual      52.0           No        X1   \n",
       "\n",
       "  Pol_Dur  Pol_Type  Prem_Amnt  Claim            combine  \n",
       "0     14+       3.0    40171.0      1  C3_Rented_65.0_No  \n",
       "1     14+       3.0    13308.0      0  C4_Rented_19.0_No  \n",
       "2     14+       3.0    41781.0      0  C6_Rented_24.0_No  \n",
       "3     14+       2.0    15383.0      0  C11_Owned_66.0_No  \n",
       "4     14+       3.0    43924.0      0   C2_Owned_52.0_No  "
      ]
     },
     "execution_count": 36,
     "metadata": {},
     "output_type": "execute_result"
    }
   ],
   "source": [
    "data.head()"
   ]
  },
  {
   "cell_type": "code",
   "execution_count": 37,
   "id": "ce9dff77",
   "metadata": {},
   "outputs": [
    {
     "name": "stdout",
     "output_type": "stream",
     "text": [
      "<class 'pandas.core.frame.DataFrame'>\n",
      "Int64Index: 10000 entries, 0 to 10023\n",
      "Data columns (total 12 columns):\n",
      " #   Column        Non-Null Count  Dtype  \n",
      "---  ------        --------------  -----  \n",
      " 0   Cust_ID       10000 non-null  float64\n",
      " 1   City_Code     10000 non-null  object \n",
      " 2   Accom_Own     10000 non-null  object \n",
      " 3   Ins_Type      10000 non-null  object \n",
      " 4   Age_Entry     10000 non-null  object \n",
      " 5   Marital_Stat  10000 non-null  object \n",
      " 6   Plan_Code     10000 non-null  object \n",
      " 7   Pol_Dur       10000 non-null  object \n",
      " 8   Pol_Type      10000 non-null  float64\n",
      " 9   Prem_Amnt     10000 non-null  float64\n",
      " 10  Claim         10000 non-null  int64  \n",
      " 11  combine       10000 non-null  object \n",
      "dtypes: float64(3), int64(1), object(8)\n",
      "memory usage: 1015.6+ KB\n"
     ]
    }
   ],
   "source": [
    "data.info()"
   ]
  },
  {
   "cell_type": "code",
   "execution_count": 38,
   "id": "e19770c1",
   "metadata": {},
   "outputs": [],
   "source": [
    "data[\"ids\"]=[i for i in range(0,data.shape[0])]"
   ]
  },
  {
   "cell_type": "code",
   "execution_count": 39,
   "id": "4a0837db",
   "metadata": {},
   "outputs": [
    {
     "data": {
      "text/html": [
       "<div>\n",
       "<style scoped>\n",
       "    .dataframe tbody tr th:only-of-type {\n",
       "        vertical-align: middle;\n",
       "    }\n",
       "\n",
       "    .dataframe tbody tr th {\n",
       "        vertical-align: top;\n",
       "    }\n",
       "\n",
       "    .dataframe thead th {\n",
       "        text-align: right;\n",
       "    }\n",
       "</style>\n",
       "<table border=\"1\" class=\"dataframe\">\n",
       "  <thead>\n",
       "    <tr style=\"text-align: right;\">\n",
       "      <th></th>\n",
       "      <th>Cust_ID</th>\n",
       "      <th>City_Code</th>\n",
       "      <th>Accom_Own</th>\n",
       "      <th>Ins_Type</th>\n",
       "      <th>Age_Entry</th>\n",
       "      <th>Marital_Stat</th>\n",
       "      <th>Plan_Code</th>\n",
       "      <th>Pol_Dur</th>\n",
       "      <th>Pol_Type</th>\n",
       "      <th>Prem_Amnt</th>\n",
       "      <th>Claim</th>\n",
       "      <th>combine</th>\n",
       "      <th>ids</th>\n",
       "    </tr>\n",
       "  </thead>\n",
       "  <tbody>\n",
       "    <tr>\n",
       "      <th>0</th>\n",
       "      <td>81040.0</td>\n",
       "      <td>C3</td>\n",
       "      <td>Rented</td>\n",
       "      <td>Individual</td>\n",
       "      <td>65.0</td>\n",
       "      <td>No</td>\n",
       "      <td>X1</td>\n",
       "      <td>14+</td>\n",
       "      <td>3.0</td>\n",
       "      <td>40171.0</td>\n",
       "      <td>1</td>\n",
       "      <td>C3_Rented_65.0_No</td>\n",
       "      <td>0</td>\n",
       "    </tr>\n",
       "    <tr>\n",
       "      <th>1</th>\n",
       "      <td>88349.0</td>\n",
       "      <td>C4</td>\n",
       "      <td>Rented</td>\n",
       "      <td>Individual</td>\n",
       "      <td>19.0</td>\n",
       "      <td>No</td>\n",
       "      <td>X2</td>\n",
       "      <td>14+</td>\n",
       "      <td>3.0</td>\n",
       "      <td>13308.0</td>\n",
       "      <td>0</td>\n",
       "      <td>C4_Rented_19.0_No</td>\n",
       "      <td>1</td>\n",
       "    </tr>\n",
       "    <tr>\n",
       "      <th>2</th>\n",
       "      <td>80799.0</td>\n",
       "      <td>C6</td>\n",
       "      <td>Rented</td>\n",
       "      <td>Individual</td>\n",
       "      <td>24.0</td>\n",
       "      <td>No</td>\n",
       "      <td>X2</td>\n",
       "      <td>14+</td>\n",
       "      <td>3.0</td>\n",
       "      <td>41781.0</td>\n",
       "      <td>0</td>\n",
       "      <td>C6_Rented_24.0_No</td>\n",
       "      <td>2</td>\n",
       "    </tr>\n",
       "    <tr>\n",
       "      <th>3</th>\n",
       "      <td>72065.0</td>\n",
       "      <td>C11</td>\n",
       "      <td>Owned</td>\n",
       "      <td>Individual</td>\n",
       "      <td>66.0</td>\n",
       "      <td>No</td>\n",
       "      <td>X3</td>\n",
       "      <td>14+</td>\n",
       "      <td>2.0</td>\n",
       "      <td>15383.0</td>\n",
       "      <td>0</td>\n",
       "      <td>C11_Owned_66.0_No</td>\n",
       "      <td>3</td>\n",
       "    </tr>\n",
       "    <tr>\n",
       "      <th>4</th>\n",
       "      <td>84093.0</td>\n",
       "      <td>C2</td>\n",
       "      <td>Owned</td>\n",
       "      <td>Individual</td>\n",
       "      <td>52.0</td>\n",
       "      <td>No</td>\n",
       "      <td>X1</td>\n",
       "      <td>14+</td>\n",
       "      <td>3.0</td>\n",
       "      <td>43924.0</td>\n",
       "      <td>0</td>\n",
       "      <td>C2_Owned_52.0_No</td>\n",
       "      <td>4</td>\n",
       "    </tr>\n",
       "  </tbody>\n",
       "</table>\n",
       "</div>"
      ],
      "text/plain": [
       "   Cust_ID City_Code Accom_Own    Ins_Type Age_Entry Marital_Stat Plan_Code  \\\n",
       "0  81040.0        C3    Rented  Individual      65.0           No        X1   \n",
       "1  88349.0        C4    Rented  Individual      19.0           No        X2   \n",
       "2  80799.0        C6    Rented  Individual      24.0           No        X2   \n",
       "3  72065.0       C11     Owned  Individual      66.0           No        X3   \n",
       "4  84093.0        C2     Owned  Individual      52.0           No        X1   \n",
       "\n",
       "  Pol_Dur  Pol_Type  Prem_Amnt  Claim            combine  ids  \n",
       "0     14+       3.0    40171.0      1  C3_Rented_65.0_No    0  \n",
       "1     14+       3.0    13308.0      0  C4_Rented_19.0_No    1  \n",
       "2     14+       3.0    41781.0      0  C6_Rented_24.0_No    2  \n",
       "3     14+       2.0    15383.0      0  C11_Owned_66.0_No    3  \n",
       "4     14+       3.0    43924.0      0   C2_Owned_52.0_No    4  "
      ]
     },
     "execution_count": 39,
     "metadata": {},
     "output_type": "execute_result"
    }
   ],
   "source": [
    "data.head()"
   ]
  },
  {
   "cell_type": "code",
   "execution_count": 40,
   "id": "4c0166e5",
   "metadata": {},
   "outputs": [],
   "source": [
    "##Importing vectoriser\n",
    "from sklearn.feature_extraction.text import TfidfVectorizer\n",
    "import numpy as np\n",
    "vec=TfidfVectorizer()"
   ]
  },
  {
   "cell_type": "code",
   "execution_count": 41,
   "id": "7d2a1adf",
   "metadata": {},
   "outputs": [],
   "source": [
    "vecs=vec.fit_transform(data[\"combine\"].apply(lambda x: np.str_(x)))"
   ]
  },
  {
   "cell_type": "code",
   "execution_count": 42,
   "id": "e081a005",
   "metadata": {},
   "outputs": [
    {
     "data": {
      "text/plain": [
       "<10000x2520 sparse matrix of type '<class 'numpy.float64'>'\n",
       "\twith 20000 stored elements in Compressed Sparse Row format>"
      ]
     },
     "execution_count": 42,
     "metadata": {},
     "output_type": "execute_result"
    }
   ],
   "source": [
    "vecs"
   ]
  },
  {
   "cell_type": "code",
   "execution_count": 43,
   "id": "af73a1d1",
   "metadata": {
    "scrolled": false
   },
   "outputs": [
    {
     "data": {
      "text/plain": [
       "(10000, 2520)"
      ]
     },
     "execution_count": 43,
     "metadata": {},
     "output_type": "execute_result"
    }
   ],
   "source": [
    "vecs.shape"
   ]
  },
  {
   "cell_type": "code",
   "execution_count": 44,
   "id": "78676542",
   "metadata": {},
   "outputs": [],
   "source": [
    "from sklearn.metrics.pairwise import cosine_similarity"
   ]
  },
  {
   "cell_type": "code",
   "execution_count": 45,
   "id": "f3cf8e7c",
   "metadata": {},
   "outputs": [],
   "source": [
    "sim=cosine_similarity(vecs) "
   ]
  },
  {
   "cell_type": "code",
   "execution_count": 46,
   "id": "ed009390",
   "metadata": {},
   "outputs": [
    {
     "data": {
      "text/plain": [
       "(10000, 10000)"
      ]
     },
     "execution_count": 46,
     "metadata": {},
     "output_type": "execute_result"
    }
   ],
   "source": [
    "sim.shape"
   ]
  },
  {
   "cell_type": "code",
   "execution_count": 47,
   "id": "0ae5da2a",
   "metadata": {},
   "outputs": [],
   "source": [
    "# for example let us take the input is same as row number 0 so the recommeded system result is variable result who have result =1 or 0.99\n",
    "data[\"result\"]=[sim[i][0] for i in range(0,data.shape[0])]"
   ]
  },
  {
   "cell_type": "code",
   "execution_count": 48,
   "id": "1a03039d",
   "metadata": {
    "scrolled": true
   },
   "outputs": [
    {
     "data": {
      "text/html": [
       "<div>\n",
       "<style scoped>\n",
       "    .dataframe tbody tr th:only-of-type {\n",
       "        vertical-align: middle;\n",
       "    }\n",
       "\n",
       "    .dataframe tbody tr th {\n",
       "        vertical-align: top;\n",
       "    }\n",
       "\n",
       "    .dataframe thead th {\n",
       "        text-align: right;\n",
       "    }\n",
       "</style>\n",
       "<table border=\"1\" class=\"dataframe\">\n",
       "  <thead>\n",
       "    <tr style=\"text-align: right;\">\n",
       "      <th></th>\n",
       "      <th>Cust_ID</th>\n",
       "      <th>City_Code</th>\n",
       "      <th>Accom_Own</th>\n",
       "      <th>Ins_Type</th>\n",
       "      <th>Age_Entry</th>\n",
       "      <th>Marital_Stat</th>\n",
       "      <th>Plan_Code</th>\n",
       "      <th>Pol_Dur</th>\n",
       "      <th>Pol_Type</th>\n",
       "      <th>Prem_Amnt</th>\n",
       "      <th>Claim</th>\n",
       "      <th>combine</th>\n",
       "      <th>ids</th>\n",
       "      <th>result</th>\n",
       "    </tr>\n",
       "  </thead>\n",
       "  <tbody>\n",
       "    <tr>\n",
       "      <th>0</th>\n",
       "      <td>81040.0</td>\n",
       "      <td>C3</td>\n",
       "      <td>Rented</td>\n",
       "      <td>Individual</td>\n",
       "      <td>65.0</td>\n",
       "      <td>No</td>\n",
       "      <td>X1</td>\n",
       "      <td>14+</td>\n",
       "      <td>3.0</td>\n",
       "      <td>40171.0</td>\n",
       "      <td>1</td>\n",
       "      <td>C3_Rented_65.0_No</td>\n",
       "      <td>0</td>\n",
       "      <td>1.000000</td>\n",
       "    </tr>\n",
       "    <tr>\n",
       "      <th>8032</th>\n",
       "      <td>74759.0</td>\n",
       "      <td>C3</td>\n",
       "      <td>Rented</td>\n",
       "      <td>Individual</td>\n",
       "      <td>65.0</td>\n",
       "      <td>No</td>\n",
       "      <td>X2</td>\n",
       "      <td>14+</td>\n",
       "      <td>3.0</td>\n",
       "      <td>11475.0</td>\n",
       "      <td>1</td>\n",
       "      <td>C3_Rented_65.0_No</td>\n",
       "      <td>8012</td>\n",
       "      <td>1.000000</td>\n",
       "    </tr>\n",
       "    <tr>\n",
       "      <th>450</th>\n",
       "      <td>74594.0</td>\n",
       "      <td>C3</td>\n",
       "      <td>Rented</td>\n",
       "      <td>Individual</td>\n",
       "      <td>65.0</td>\n",
       "      <td>No</td>\n",
       "      <td>X1</td>\n",
       "      <td>14+</td>\n",
       "      <td>3.0</td>\n",
       "      <td>45210.0</td>\n",
       "      <td>0</td>\n",
       "      <td>C3_Rented_65.0_No</td>\n",
       "      <td>447</td>\n",
       "      <td>1.000000</td>\n",
       "    </tr>\n",
       "    <tr>\n",
       "      <th>4890</th>\n",
       "      <td>78545.0</td>\n",
       "      <td>C1</td>\n",
       "      <td>Owned</td>\n",
       "      <td>Individual</td>\n",
       "      <td>75.0</td>\n",
       "      <td>No</td>\n",
       "      <td>X1</td>\n",
       "      <td>14+</td>\n",
       "      <td>3.0</td>\n",
       "      <td>11151.0</td>\n",
       "      <td>0</td>\n",
       "      <td>C1_Owned_75.0_No</td>\n",
       "      <td>4874</td>\n",
       "      <td>0.027361</td>\n",
       "    </tr>\n",
       "    <tr>\n",
       "      <th>4724</th>\n",
       "      <td>82558.0</td>\n",
       "      <td>C1</td>\n",
       "      <td>Owned</td>\n",
       "      <td>Individual</td>\n",
       "      <td>75.0</td>\n",
       "      <td>No</td>\n",
       "      <td>X1</td>\n",
       "      <td>14+</td>\n",
       "      <td>3.0</td>\n",
       "      <td>45645.0</td>\n",
       "      <td>0</td>\n",
       "      <td>C1_Owned_75.0_No</td>\n",
       "      <td>4708</td>\n",
       "      <td>0.027361</td>\n",
       "    </tr>\n",
       "    <tr>\n",
       "      <th>...</th>\n",
       "      <td>...</td>\n",
       "      <td>...</td>\n",
       "      <td>...</td>\n",
       "      <td>...</td>\n",
       "      <td>...</td>\n",
       "      <td>...</td>\n",
       "      <td>...</td>\n",
       "      <td>...</td>\n",
       "      <td>...</td>\n",
       "      <td>...</td>\n",
       "      <td>...</td>\n",
       "      <td>...</td>\n",
       "      <td>...</td>\n",
       "      <td>...</td>\n",
       "    </tr>\n",
       "    <tr>\n",
       "      <th>4524</th>\n",
       "      <td>76728.0</td>\n",
       "      <td>C17</td>\n",
       "      <td>Rented</td>\n",
       "      <td>Joint</td>\n",
       "      <td>52.0</td>\n",
       "      <td>Yes</td>\n",
       "      <td>X1</td>\n",
       "      <td>4.0</td>\n",
       "      <td>1.0</td>\n",
       "      <td>47692.0</td>\n",
       "      <td>0</td>\n",
       "      <td>C17_Rented_52.0_Yes</td>\n",
       "      <td>4509</td>\n",
       "      <td>0.000000</td>\n",
       "    </tr>\n",
       "    <tr>\n",
       "      <th>1429</th>\n",
       "      <td>84325.0</td>\n",
       "      <td>C20</td>\n",
       "      <td>Rented</td>\n",
       "      <td>Joint</td>\n",
       "      <td>24.0</td>\n",
       "      <td>Yes</td>\n",
       "      <td>X2</td>\n",
       "      <td>2.0</td>\n",
       "      <td>3.0</td>\n",
       "      <td>40014.0</td>\n",
       "      <td>0</td>\n",
       "      <td>C20_Rented_24.0_Yes</td>\n",
       "      <td>1423</td>\n",
       "      <td>0.000000</td>\n",
       "    </tr>\n",
       "    <tr>\n",
       "      <th>8775</th>\n",
       "      <td>76739.0</td>\n",
       "      <td>C8</td>\n",
       "      <td>Owned</td>\n",
       "      <td>Joint</td>\n",
       "      <td>59.0</td>\n",
       "      <td>Yes</td>\n",
       "      <td>X2</td>\n",
       "      <td>11.0</td>\n",
       "      <td>1.0</td>\n",
       "      <td>34350.0</td>\n",
       "      <td>1</td>\n",
       "      <td>C8_Owned_59.0_Yes</td>\n",
       "      <td>8754</td>\n",
       "      <td>0.000000</td>\n",
       "    </tr>\n",
       "    <tr>\n",
       "      <th>6109</th>\n",
       "      <td>88302.0</td>\n",
       "      <td>C1</td>\n",
       "      <td>Owned</td>\n",
       "      <td>Joint</td>\n",
       "      <td>23.0</td>\n",
       "      <td>Yes</td>\n",
       "      <td>X1</td>\n",
       "      <td>14+</td>\n",
       "      <td>1.0</td>\n",
       "      <td>38555.0</td>\n",
       "      <td>0</td>\n",
       "      <td>C1_Owned_23.0_Yes</td>\n",
       "      <td>6092</td>\n",
       "      <td>0.000000</td>\n",
       "    </tr>\n",
       "    <tr>\n",
       "      <th>3582</th>\n",
       "      <td>71764.0</td>\n",
       "      <td>C15</td>\n",
       "      <td>Rented</td>\n",
       "      <td>Joint</td>\n",
       "      <td>27.0</td>\n",
       "      <td>Yes</td>\n",
       "      <td>X1</td>\n",
       "      <td>3.0</td>\n",
       "      <td>3.0</td>\n",
       "      <td>13810.0</td>\n",
       "      <td>0</td>\n",
       "      <td>C15_Rented_27.0_Yes</td>\n",
       "      <td>3568</td>\n",
       "      <td>0.000000</td>\n",
       "    </tr>\n",
       "  </tbody>\n",
       "</table>\n",
       "<p>10000 rows × 14 columns</p>\n",
       "</div>"
      ],
      "text/plain": [
       "      Cust_ID City_Code Accom_Own    Ins_Type Age_Entry Marital_Stat  \\\n",
       "0     81040.0        C3    Rented  Individual      65.0           No   \n",
       "8032  74759.0        C3    Rented  Individual      65.0           No   \n",
       "450   74594.0        C3    Rented  Individual      65.0           No   \n",
       "4890  78545.0        C1     Owned  Individual      75.0           No   \n",
       "4724  82558.0        C1     Owned  Individual      75.0           No   \n",
       "...       ...       ...       ...         ...       ...          ...   \n",
       "4524  76728.0       C17    Rented       Joint      52.0          Yes   \n",
       "1429  84325.0       C20    Rented       Joint      24.0          Yes   \n",
       "8775  76739.0        C8     Owned       Joint      59.0          Yes   \n",
       "6109  88302.0        C1     Owned       Joint      23.0          Yes   \n",
       "3582  71764.0       C15    Rented       Joint      27.0          Yes   \n",
       "\n",
       "     Plan_Code Pol_Dur  Pol_Type  Prem_Amnt  Claim              combine   ids  \\\n",
       "0           X1     14+       3.0    40171.0      1    C3_Rented_65.0_No     0   \n",
       "8032        X2     14+       3.0    11475.0      1    C3_Rented_65.0_No  8012   \n",
       "450         X1     14+       3.0    45210.0      0    C3_Rented_65.0_No   447   \n",
       "4890        X1     14+       3.0    11151.0      0     C1_Owned_75.0_No  4874   \n",
       "4724        X1     14+       3.0    45645.0      0     C1_Owned_75.0_No  4708   \n",
       "...        ...     ...       ...        ...    ...                  ...   ...   \n",
       "4524        X1     4.0       1.0    47692.0      0  C17_Rented_52.0_Yes  4509   \n",
       "1429        X2     2.0       3.0    40014.0      0  C20_Rented_24.0_Yes  1423   \n",
       "8775        X2    11.0       1.0    34350.0      1    C8_Owned_59.0_Yes  8754   \n",
       "6109        X1     14+       1.0    38555.0      0    C1_Owned_23.0_Yes  6092   \n",
       "3582        X1     3.0       3.0    13810.0      0  C15_Rented_27.0_Yes  3568   \n",
       "\n",
       "        result  \n",
       "0     1.000000  \n",
       "8032  1.000000  \n",
       "450   1.000000  \n",
       "4890  0.027361  \n",
       "4724  0.027361  \n",
       "...        ...  \n",
       "4524  0.000000  \n",
       "1429  0.000000  \n",
       "8775  0.000000  \n",
       "6109  0.000000  \n",
       "3582  0.000000  \n",
       "\n",
       "[10000 rows x 14 columns]"
      ]
     },
     "execution_count": 48,
     "metadata": {},
     "output_type": "execute_result"
    }
   ],
   "source": [
    "data.sort_values(by=['result'],ascending=False)"
   ]
  },
  {
   "cell_type": "code",
   "execution_count": 49,
   "id": "fdb9ef71",
   "metadata": {},
   "outputs": [
    {
     "name": "stdout",
     "output_type": "stream",
     "text": [
      "<class 'pandas.core.frame.DataFrame'>\n",
      "Int64Index: 10000 entries, 0 to 10023\n",
      "Data columns (total 14 columns):\n",
      " #   Column        Non-Null Count  Dtype  \n",
      "---  ------        --------------  -----  \n",
      " 0   Cust_ID       10000 non-null  float64\n",
      " 1   City_Code     10000 non-null  object \n",
      " 2   Accom_Own     10000 non-null  object \n",
      " 3   Ins_Type      10000 non-null  object \n",
      " 4   Age_Entry     10000 non-null  object \n",
      " 5   Marital_Stat  10000 non-null  object \n",
      " 6   Plan_Code     10000 non-null  object \n",
      " 7   Pol_Dur       10000 non-null  object \n",
      " 8   Pol_Type      10000 non-null  float64\n",
      " 9   Prem_Amnt     10000 non-null  float64\n",
      " 10  Claim         10000 non-null  int64  \n",
      " 11  combine       10000 non-null  object \n",
      " 12  ids           10000 non-null  int64  \n",
      " 13  result        10000 non-null  float64\n",
      "dtypes: float64(4), int64(2), object(8)\n",
      "memory usage: 1.1+ MB\n"
     ]
    }
   ],
   "source": [
    "data.info()"
   ]
  },
  {
   "cell_type": "code",
   "execution_count": 50,
   "id": "1472423c",
   "metadata": {},
   "outputs": [],
   "source": [
    "def recommend(cust):\n",
    "    cust_id=data[data.Cust_ID==cust][\"ids\"].values[0]\n",
    "    scores=list(enumerate(sim[cust_id]))\n",
    "    sorted_scores=sorted(scores,key=lambda x:x[1],reverse=True)\n",
    "    sorted_scores=sorted_scores[1:]\n",
    "    Poldur=[data[Poldur[0]==data[\"ids\"]][\"Pol_Dur\"].values[0] for Poldur in sorted_scores]\n",
    "    return Poldur"
   ]
  },
  {
   "cell_type": "code",
   "execution_count": 51,
   "id": "6d5f90ab",
   "metadata": {},
   "outputs": [
    {
     "ename": "NameError",
     "evalue": "name 'sorted_scores' is not defined",
     "output_type": "error",
     "traceback": [
      "\u001b[1;31m---------------------------------------------------------------------------\u001b[0m",
      "\u001b[1;31mNameError\u001b[0m                                 Traceback (most recent call last)",
      "\u001b[1;32m<ipython-input-51-b2aa5a62eeed>\u001b[0m in \u001b[0;36m<module>\u001b[1;34m\u001b[0m\n\u001b[1;32m----> 1\u001b[1;33m \u001b[0msorted_scores\u001b[0m\u001b[1;33m\u001b[0m\u001b[1;33m\u001b[0m\u001b[0m\n\u001b[0m",
      "\u001b[1;31mNameError\u001b[0m: name 'sorted_scores' is not defined"
     ]
    }
   ],
   "source": [
    "sorted_scores"
   ]
  },
  {
   "cell_type": "code",
   "execution_count": null,
   "id": "d93d763d",
   "metadata": {},
   "outputs": [],
   "source": [
    "def recommend_ten(Poldur_list):\n",
    "    first_ten=[]\n",
    "    count=0\n",
    "    for Poldur in Poldur_list:\n",
    "        if count > 9:\n",
    "            break\n",
    "        count+=1\n",
    "        first_ten.append(Poldur)\n",
    "    return first_ten"
   ]
  },
  {
   "cell_type": "code",
   "execution_count": null,
   "id": "300cf6e3",
   "metadata": {},
   "outputs": [],
   "source": [
    "lst=recommend(\"81040.0\")\n",
    "m=recommend_ten(lst)"
   ]
  },
  {
   "cell_type": "code",
   "execution_count": null,
   "id": "ad2aad30",
   "metadata": {},
   "outputs": [],
   "source": [
    "m"
   ]
  },
  {
   "cell_type": "code",
   "execution_count": null,
   "id": "252a965d",
   "metadata": {},
   "outputs": [],
   "source": [
    "data.head()"
   ]
  },
  {
   "cell_type": "code",
   "execution_count": null,
   "id": "ae10fcf9",
   "metadata": {},
   "outputs": [],
   "source": []
  }
 ],
 "metadata": {
  "kernelspec": {
   "display_name": "Python 3",
   "language": "python",
   "name": "python3"
  },
  "language_info": {
   "codemirror_mode": {
    "name": "ipython",
    "version": 3
   },
   "file_extension": ".py",
   "mimetype": "text/x-python",
   "name": "python",
   "nbconvert_exporter": "python",
   "pygments_lexer": "ipython3",
   "version": "3.8.8"
  }
 },
 "nbformat": 4,
 "nbformat_minor": 5
}
